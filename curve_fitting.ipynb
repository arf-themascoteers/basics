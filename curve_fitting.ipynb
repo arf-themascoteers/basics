{
 "cells": [
  {
   "cell_type": "code",
   "execution_count": 73,
   "metadata": {
    "collapsed": true
   },
   "outputs": [
    {
     "data": {
      "text/plain": "<Figure size 432x288 with 1 Axes>",
      "image/png": "[encoded data removed]"
     },
     "metadata": {
      "needs_background": "light"
     },
     "output_type": "display_data"
    }
   ],
   "source": [
    "import matplotlib.pyplot as plt\n",
    "from IPython.display import display, Math, Latex, Image\n",
    "import numpy as np\n",
    "from mpl_toolkits import mplot3d\n",
    "\n",
    "x = np.array([-1,0,1])\n",
    "y = np.array([-0.8,1,3.3])\n",
    "\n",
    "def plot_original_points():\n",
    "    plt.scatter(x,y)\n",
    "    for i in range(3):\n",
    "        plt.annotate(xy=(x[i], y[i]), text=f\"   {x[i]},  {y[i]}\")\n",
    "\n",
    "plot_original_points()"
   ]
  },
  {
   "cell_type": "code",
   "execution_count": 74,
   "outputs": [
    {
     "data": {
      "text/plain": "<Figure size 432x288 with 1 Axes>",
      "image/png": "[encoded data removed]"
     },
     "metadata": {
      "needs_background": "light"
     },
     "output_type": "display_data"
    }
   ],
   "source": [
    "m = 1\n",
    "c = 2\n",
    "y_pred = m * x + c\n",
    "plt.plot(x, y_pred)\n",
    "plot_original_points()"
   ],
   "metadata": {
    "collapsed": false,
    "pycharm": {
     "name": "#%%\n"
    }
   }
  },
  {
   "cell_type": "code",
   "execution_count": 75,
   "outputs": [
    {
     "name": "stdout",
     "output_type": "stream",
     "text": [
      "Objective: Minimize following loss\n"
     ]
    },
    {
     "data": {
      "text/plain": "<IPython.core.display.Math object>",
      "text/latex": "$\\displaystyle Loss = \\sum_{i=1}^{N}(x_i-y_i)^2$"
     },
     "metadata": {},
     "output_type": "display_data"
    },
    {
     "name": "stdout",
     "output_type": "stream",
     "text": [
      "Reason for square: To obtain a possible loss whenever there is a difference regardless of order\n"
     ]
    }
   ],
   "source": [
    "print(\"Objective: Minimize following loss\")\n",
    "display(Math(r'Loss = \\sum_{i=1}^{N}(x_i-y_i)^2'))\n",
    "print(\"Reason for square: To obtain a possible loss whenever there is a difference regardless of order\")"
   ],
   "metadata": {
    "collapsed": false,
    "pycharm": {
     "name": "#%%\n"
    }
   }
  },
  {
   "cell_type": "code",
   "execution_count": 76,
   "outputs": [
    {
     "data": {
      "text/plain": "<IPython.core.display.Math object>",
      "text/latex": "$\\displaystyle Loss = (x_1-y_1)^2 +(x_2-y_2)^2 +(x_3-y_3)^2$"
     },
     "metadata": {},
     "output_type": "display_data"
    }
   ],
   "source": [
    "display(Math(r'Loss = (x_1-y_1)^2 +(x_2-y_2)^2 +(x_3-y_3)^2'))"
   ],
   "metadata": {
    "collapsed": false,
    "pycharm": {
     "name": "#%%\n"
    }
   }
  },
  {
   "cell_type": "markdown",
   "source": [],
   "metadata": {
    "collapsed": false
   }
  },
  {
   "cell_type": "code",
   "execution_count": 77,
   "outputs": [],
   "source": [
    "def get_loss(y, y_pred):\n",
    "    return np.square(y_pred - y).sum()\n",
    "\n",
    "def get_y_pred(m,c):\n",
    "    y_preds = np.zeros((len(m_values), len(x)))\n",
    "    for i in range(len(m)):\n",
    "        y_preds[i] = m[i] * x + c[i]\n",
    "    return y_preds"
   ],
   "metadata": {
    "collapsed": false,
    "pycharm": {
     "name": "#%%\n"
    }
   }
  },
  {
   "cell_type": "code",
   "execution_count": null,
   "outputs": [],
   "source": [
    "m_values = np.linspace(m-3,m+3, 10)\n",
    "c_values = np.linspace(c-3,c+3, 10)\n",
    "\n",
    "y_preds = get_y_pred(m_values, c_values)\n",
    "losses = np.zeros_like(m_values)\n",
    "for i in range(len(m_values)):\n",
    "    losses[i] = get_loss(y, y_preds[i])\n",
    "\n",
    "fig = plt.figure()\n",
    "ax = plt.axes(projection='3d')\n",
    "ax.plot3D(m_values, c_values, losses, 'gray')\n",
    "ax.set_xlabel(\"m\")\n",
    "ax.set_ylabel(\"c\")\n",
    "ax.set_zlabel(\"loss\")\n"
   ],
   "metadata": {
    "collapsed": false,
    "pycharm": {
     "name": "#%%\n"
    }
   }
  }
 ],
 "metadata": {
  "kernelspec": {
   "display_name": "Python 3",
   "language": "python",
   "name": "python3"
  },
  "language_info": {
   "codemirror_mode": {
    "name": "ipython",
    "version": 2
   },
   "file_extension": ".py",
   "mimetype": "text/x-python",
   "name": "python",
   "nbconvert_exporter": "python",
   "pygments_lexer": "ipython2",
   "version": "2.7.6"
  }
 },
 "nbformat": 4,
 "nbformat_minor": 0
}