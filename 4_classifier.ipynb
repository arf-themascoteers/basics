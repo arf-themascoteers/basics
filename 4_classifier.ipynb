{
 "cells": [
  {
   "cell_type": "code",
   "execution_count": 74,
   "metadata": {
    "collapsed": true
   },
   "outputs": [],
   "source": [
    "from torch.utils.data import DataLoader\n",
    "import torch.nn.functional as F\n",
    "import torch\n",
    "from torchvision import datasets\n",
    "from torchvision.transforms import ToTensor\n",
    "import torch.nn as nn\n",
    "import matplotlib.pyplot as plt\n",
    "from IPython.display import Image, Math\n",
    "\n",
    "model = nn.Sequential(nn.Linear(784, 512),\n",
    "                      nn.ReLU(),\n",
    "                      nn.Linear(512, 64),\n",
    "                      nn.ReLU(),\n",
    "                      nn.Linear(64, 10))\n",
    "model.train()\n",
    "working_set = datasets.MNIST(\n",
    "    root='data',\n",
    "    train=True,\n",
    "    transform=ToTensor(),\n",
    "    download=True,\n",
    ")\n",
    "\n",
    "dataloader = DataLoader(working_set, batch_size=1, shuffle=False)\n",
    "optimizer = torch.optim.Adam(model.parameters(), lr=1e-3, weight_decay=1e-5)"
   ]
  },
  {
   "cell_type": "code",
   "execution_count": 75,
   "outputs": [
    {
     "name": "stdout",
     "output_type": "stream",
     "text": [
      "Train the machine one step\n",
      "Input\n"
     ]
    },
    {
     "data": {
      "text/plain": "<Figure size 432x288 with 1 Axes>",
      "image/png": "[encoded data removed]"
     },
     "metadata": {
      "needs_background": "light"
     },
     "output_type": "display_data"
    }
   ],
   "source": [
    "print(\"Train the machine one step\")\n",
    "optimizer.zero_grad()\n",
    "x, y_true = next(iter(dataloader))\n",
    "print(\"Input\")\n",
    "plt.imshow(x.reshape(28,28))\n",
    "x = x.reshape(x.shape[0], -1)"
   ],
   "metadata": {
    "collapsed": false,
    "pycharm": {
     "name": "#%%\n"
    }
   }
  },
  {
   "cell_type": "code",
   "execution_count": 76,
   "outputs": [
    {
     "name": "stdout",
     "output_type": "stream",
     "text": [
      "\n",
      "\n",
      "Actual Output\n",
      "5\n"
     ]
    }
   ],
   "source": [
    "actual_output = y_true[0].item()\n",
    "print(\"\\n\\nActual Output\")\n",
    "print(actual_output)"
   ],
   "metadata": {
    "collapsed": false,
    "pycharm": {
     "name": "#%%\n"
    }
   }
  },
  {
   "cell_type": "code",
   "execution_count": 77,
   "outputs": [
    {
     "name": "stdout",
     "output_type": "stream",
     "text": [
      "Output for 0: 0.040161795914173126 \n",
      "Output for 1: -0.09824703633785248 \n",
      "Output for 2: 0.05715511739253998 \n",
      "Output for 3: -0.07902190089225769 \n",
      "Output for 4: 0.08404043316841125 \n",
      "Output for 5: 0.0476258285343647 ---(Actual)\n",
      "Output for 6: -0.09312647581100464 \n",
      "Output for 7: 0.008346542716026306 \n",
      "Output for 8: -0.0012514442205429077 \n",
      "Output for 9: -0.011150762438774109 \n"
     ]
    }
   ],
   "source": [
    "model_output = model(x)\n",
    "for i in range(model_output.shape[1]):\n",
    "    print(f\"Output for {i}: {model_output[0][i]} {'---(Actual)' if i==actual_output else ''}\")"
   ],
   "metadata": {
    "collapsed": false,
    "pycharm": {
     "name": "#%%\n"
    }
   }
  },
  {
   "cell_type": "code",
   "execution_count": 78,
   "outputs": [
    {
     "name": "stdout",
     "output_type": "stream",
     "text": [
      "We transform these outputs as probability using softmax\n"
     ]
    },
    {
     "data": {
      "text/plain": "<IPython.core.display.Math object>",
      "text/latex": "$\\displaystyle softmax(output_i) = \\frac{e^{output_i}}{\\sum_{j}^{ }e^{output_j}}$"
     },
     "metadata": {},
     "output_type": "display_data"
    }
   ],
   "source": [
    "print(\"We transform these outputs as probability using softmax\")\n",
    "display(Math(r'softmax(output_i) = \\frac{e^{output_i}}{\\sum_{j}^{ }e^{output_j}}'))"
   ],
   "metadata": {
    "collapsed": false,
    "pycharm": {
     "name": "#%%\n"
    }
   }
  },
  {
   "cell_type": "code",
   "execution_count": 79,
   "outputs": [
    {
     "data": {
      "text/plain": "<IPython.core.display.Math object>",
      "text/latex": "$\\displaystyle e^{output_i}\\ =$"
     },
     "metadata": {},
     "output_type": "display_data"
    },
    {
     "name": "stdout",
     "output_type": "stream",
     "text": [
      "1.05\n"
     ]
    }
   ],
   "source": [
    "exp = torch.exp(model_output)\n",
    "exp_actual = exp[0][actual_output]\n",
    "display(Math(r'e^{output_i}\\ ='))\n",
    "print(f\"{exp_actual:.2f}\")"
   ],
   "metadata": {
    "collapsed": false,
    "pycharm": {
     "name": "#%%\n"
    }
   }
  },
  {
   "cell_type": "code",
   "execution_count": 80,
   "outputs": [
    {
     "data": {
      "text/plain": "<IPython.core.display.Math object>",
      "text/latex": "$\\displaystyle \\sum_{j}^{ }e^{output_j}\\ =$"
     },
     "metadata": {},
     "output_type": "display_data"
    },
    {
     "name": "stdout",
     "output_type": "stream",
     "text": [
      "9.97\n"
     ]
    }
   ],
   "source": [
    "sum_exp_outputs = torch.sum(torch.exp(model_output)).item()\n",
    "display(Math(r'\\sum_{j}^{ }e^{output_j}\\ ='))\n",
    "print(f\"{sum_exp_outputs:.2f}\")"
   ],
   "metadata": {
    "collapsed": false,
    "pycharm": {
     "name": "#%%\n"
    }
   }
  },
  {
   "cell_type": "code",
   "execution_count": 81,
   "outputs": [
    {
     "data": {
      "text/plain": "<IPython.core.display.Math object>",
      "text/latex": "$\\displaystyle softmax(output_5)= \\frac{e^{output_5 }}{\\sum_{j}^{ }e^{output_j}} =$"
     },
     "metadata": {},
     "output_type": "display_data"
    },
    {
     "name": "stdout",
     "output_type": "stream",
     "text": [
      "0.11\n"
     ]
    }
   ],
   "source": [
    "str = f\"softmax(output_{actual_output})\" + r'= \\frac{e^{'+f\"output_{actual_output}\"+' }}{\\sum_{j}^{ }e^{output_j}} ='\n",
    "display(Math(str))\n",
    "softmax_actual = exp_actual/sum_exp_outputs\n",
    "print(f\"{softmax_actual:.2f}\")"
   ],
   "metadata": {
    "collapsed": false,
    "pycharm": {
     "name": "#%%\n"
    }
   }
  },
  {
   "cell_type": "code",
   "execution_count": 82,
   "outputs": [
    {
     "name": "stdout",
     "output_type": "stream",
     "text": [
      "Loss\n"
     ]
    },
    {
     "data": {
      "text/plain": "<IPython.core.display.Math object>",
      "text/latex": "$\\displaystyle loss = -\\sum{p(x)*\\log(q(x))}$"
     },
     "metadata": {},
     "output_type": "display_data"
    },
    {
     "data": {
      "text/plain": "<IPython.core.display.Math object>",
      "text/latex": "$\\displaystyle p(x): Actual\\ probability$"
     },
     "metadata": {},
     "output_type": "display_data"
    },
    {
     "data": {
      "text/plain": "<IPython.core.display.Math object>",
      "text/latex": "$\\displaystyle q(x): Predicted\\ probability$"
     },
     "metadata": {},
     "output_type": "display_data"
    }
   ],
   "source": [
    "print(\"Loss\")\n",
    "display(Math(r\"loss = -\\sum{p(x)*\\log(q(x))}\"))\n",
    "display(Math(r\"p(x): Actual\\ probability\"))\n",
    "display(Math(r\"q(x): Predicted\\ probability\"))"
   ],
   "metadata": {
    "collapsed": false,
    "pycharm": {
     "name": "#%%\n"
    }
   }
  },
  {
   "cell_type": "code",
   "execution_count": 83,
   "outputs": [
    {
     "name": "stdout",
     "output_type": "stream",
     "text": [
      "Since all p(x)=0 except for x is not 5, and p(x) =1 where x is 5, loss becomes:\n"
     ]
    },
    {
     "data": {
      "text/plain": "<IPython.core.display.Math object>",
      "text/latex": "$\\displaystyle loss = -\\log(q(x))\\ [x\\ is\\ 5]$"
     },
     "metadata": {},
     "output_type": "display_data"
    }
   ],
   "source": [
    "print(f\"Since all p(x)=0 except for x is not {actual_output}, and p(x) =1 where x is {actual_output}, loss becomes:\")\n",
    "display(Math(r\"loss = -\\log(q(x))\\ [x\\ is\\ 5]\"))"
   ],
   "metadata": {
    "collapsed": false,
    "pycharm": {
     "name": "#%%\n"
    }
   }
  },
  {
   "cell_type": "code",
   "execution_count": 84,
   "outputs": [
    {
     "name": "stdout",
     "output_type": "stream",
     "text": [
      "So, Calculated LogSoftmax for the case in concern is: -2.25\n"
     ]
    }
   ],
   "source": [
    "log_softmax = torch.log(softmax_actual)\n",
    "print(f\"So, Calculated LogSoftmax for the case in concern is: {log_softmax:.2f}\")"
   ],
   "metadata": {
    "collapsed": false,
    "pycharm": {
     "name": "#%%\n"
    }
   }
  },
  {
   "cell_type": "code",
   "execution_count": 85,
   "outputs": [
    {
     "name": "stdout",
     "output_type": "stream",
     "text": [
      "Verify. LogSoftmax calculated by PyTorch -2.25\n"
     ]
    }
   ],
   "source": [
    "log_softmax_pytorch_for_all = F.log_softmax(model_output, dim=1)\n",
    "log_softmax_pytorch = log_softmax_pytorch_for_all[0][actual_output]\n",
    "print(f\"Verify. LogSoftmax calculated by PyTorch {log_softmax_pytorch:.2f}\")"
   ],
   "metadata": {
    "collapsed": false,
    "pycharm": {
     "name": "#%%\n"
    }
   }
  },
  {
   "cell_type": "code",
   "execution_count": 86,
   "outputs": [
    {
     "name": "stdout",
     "output_type": "stream",
     "text": [
      "So, Calculated loss is: 2.25\n"
     ]
    }
   ],
   "source": [
    "loss = -log_softmax\n",
    "print(f\"So, Calculated loss is: {loss:.2f}\")"
   ],
   "metadata": {
    "collapsed": false,
    "pycharm": {
     "name": "#%%\n"
    }
   }
  },
  {
   "cell_type": "code",
   "execution_count": 88,
   "outputs": [
    {
     "name": "stdout",
     "output_type": "stream",
     "text": [
      "So, Loss calculated by PyTorch: 2.25\n"
     ]
    }
   ],
   "source": [
    "loss = F.nll_loss(log_softmax_pytorch_for_all, y_true)\n",
    "print(f\"So, Loss calculated by PyTorch: {loss:.2f}\")"
   ],
   "metadata": {
    "collapsed": false,
    "pycharm": {
     "name": "#%%\n"
    }
   }
  }
 ],
 "metadata": {
  "kernelspec": {
   "display_name": "Python 3",
   "language": "python",
   "name": "python3"
  },
  "language_info": {
   "codemirror_mode": {
    "name": "ipython",
    "version": 2
   },
   "file_extension": ".py",
   "mimetype": "text/x-python",
   "name": "python",
   "nbconvert_exporter": "python",
   "pygments_lexer": "ipython2",
   "version": "2.7.6"
  }
 },
 "nbformat": 4,
 "nbformat_minor": 0
}