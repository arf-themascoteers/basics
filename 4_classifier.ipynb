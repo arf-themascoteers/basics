{
 "cells": [
  {
   "cell_type": "code",
   "execution_count": 1,
   "metadata": {
    "collapsed": true
   },
   "outputs": [],
   "source": [
    "from torch.utils.data import DataLoader\n",
    "import torch.nn.functional as F\n",
    "import torch\n",
    "from torchvision import datasets\n",
    "from torchvision.transforms import ToTensor\n",
    "import torch.nn as nn\n",
    "\n",
    "model = nn.Sequential(nn.Linear(784, 512),\n",
    "                      nn.ReLU(),\n",
    "                      nn.Linear(512, 64),\n",
    "                      nn.ReLU(),\n",
    "                      nn.Linear(64, 10))\n",
    "model.train()\n",
    "working_set = datasets.MNIST(\n",
    "    root='data',\n",
    "    train=True,\n",
    "    transform=ToTensor(),\n",
    "    download=True,\n",
    ")\n",
    "\n",
    "dataloader = DataLoader(working_set, batch_size=1, shuffle=True)\n",
    "optimizer = torch.optim.Adam(model.parameters(), lr=1e-3, weight_decay=1e-5)"
   ]
  },
  {
   "cell_type": "code",
   "execution_count": 2,
   "outputs": [
    {
     "name": "stdout",
     "output_type": "stream",
     "text": [
      "Train the machine one step\n",
      "\n",
      "\n",
      "Actual Output\n",
      "5\n",
      "\n",
      "\n",
      "Confidence for 5\n",
      "-2.4379594326019287\n",
      "\n",
      "\n",
      "Calculated Loss\n",
      "2.4379594326019287\n",
      "\n",
      "\n",
      "Actual Loss\n",
      "tensor(2.4380, grad_fn=<NllLossBackward0>)\n",
      "Loss:{loss.item():.4f}\n"
     ]
    }
   ],
   "source": [
    "print(\"Train the machine one step\")\n",
    "optimizer.zero_grad()\n",
    "x, y_true = next(iter(dataloader))\n",
    "x = x.reshape(x.shape[0], -1)\n",
    "y_pred = model(x)\n",
    "print\n",
    "\n",
    "actual_output = y_true[0].item()\n",
    "print(\"\\n\\nActual Output\")\n",
    "print(actual_output)\n",
    "\n",
    "confidence_for_actual_output = y_pred[0][actual_output].item()\n",
    "print(f\"\\n\\nConfidence for {actual_output}\")\n",
    "print(confidence_for_actual_output)\n",
    "\n",
    "print(\"\\n\\nCalculated Loss\")\n",
    "print(-confidence_for_actual_output)\n",
    "\n",
    "loss = F.nll_loss(y_pred, y_true)\n",
    "print(\"\\n\\nActual Loss\")\n",
    "print(loss)\n",
    "exit(0)\n",
    "\n",
    "loss.backward()\n",
    "optimizer.step()\n",
    "print('Loss:{loss.item():.4f}')\n"
   ],
   "metadata": {
    "collapsed": false,
    "pycharm": {
     "name": "#%%\n"
    }
   }
  }
 ],
 "metadata": {
  "kernelspec": {
   "display_name": "Python 3",
   "language": "python",
   "name": "python3"
  },
  "language_info": {
   "codemirror_mode": {
    "name": "ipython",
    "version": 2
   },
   "file_extension": ".py",
   "mimetype": "text/x-python",
   "name": "python",
   "nbconvert_exporter": "python",
   "pygments_lexer": "ipython2",
   "version": "2.7.6"
  }
 },
 "nbformat": 4,
 "nbformat_minor": 0
}